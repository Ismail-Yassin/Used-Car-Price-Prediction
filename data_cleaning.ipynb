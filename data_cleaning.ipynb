{
 "cells": [
  {
   "cell_type": "markdown",
   "id": "c9afe3c5",
   "metadata": {},
   "source": [
    "## Data cleaning"
   ]
  },
  {
   "cell_type": "code",
   "execution_count": 28,
   "id": "7bf4dfc5",
   "metadata": {},
   "outputs": [],
   "source": [
    "# Importing libraries\n",
    "import pandas as pd\n",
    "import numpy as np\n",
    "\n",
    "import matplotlib.pyplot as plt\n",
    "import seaborn as sns"
   ]
  },
  {
   "cell_type": "code",
   "execution_count": 29,
   "id": "fdef4e13",
   "metadata": {},
   "outputs": [
    {
     "data": {
      "text/html": [
       "<div>\n",
       "<style scoped>\n",
       "    .dataframe tbody tr th:only-of-type {\n",
       "        vertical-align: middle;\n",
       "    }\n",
       "\n",
       "    .dataframe tbody tr th {\n",
       "        vertical-align: top;\n",
       "    }\n",
       "\n",
       "    .dataframe thead th {\n",
       "        text-align: right;\n",
       "    }\n",
       "</style>\n",
       "<table border=\"1\" class=\"dataframe\">\n",
       "  <thead>\n",
       "    <tr style=\"text-align: right;\">\n",
       "      <th></th>\n",
       "      <th>Make</th>\n",
       "      <th>Model</th>\n",
       "      <th>Year</th>\n",
       "      <th>Price</th>\n",
       "      <th>Mileage</th>\n",
       "      <th>Body Type</th>\n",
       "      <th>Cylinders</th>\n",
       "      <th>Transmission</th>\n",
       "      <th>Fuel Type</th>\n",
       "      <th>Color</th>\n",
       "      <th>Location</th>\n",
       "      <th>Description</th>\n",
       "    </tr>\n",
       "  </thead>\n",
       "  <tbody>\n",
       "    <tr>\n",
       "      <th>0</th>\n",
       "      <td>toyota</td>\n",
       "      <td>camry</td>\n",
       "      <td>2016</td>\n",
       "      <td>47819</td>\n",
       "      <td>156500</td>\n",
       "      <td>Sedan</td>\n",
       "      <td>4</td>\n",
       "      <td>Automatic Transmission</td>\n",
       "      <td>Gasoline</td>\n",
       "      <td>Black</td>\n",
       "      <td>Dubai</td>\n",
       "      <td>2016 toyota camry with Rear camera, Leather se...</td>\n",
       "    </tr>\n",
       "    <tr>\n",
       "      <th>1</th>\n",
       "      <td>kia</td>\n",
       "      <td>sorento</td>\n",
       "      <td>2013</td>\n",
       "      <td>61250</td>\n",
       "      <td>169543</td>\n",
       "      <td>SUV</td>\n",
       "      <td>4</td>\n",
       "      <td>Automatic Transmission</td>\n",
       "      <td>Gasoline</td>\n",
       "      <td>Grey</td>\n",
       "      <td>Abu Dhabi</td>\n",
       "      <td>2013 kia sorento with Sunroof, Adaptive cruise...</td>\n",
       "    </tr>\n",
       "    <tr>\n",
       "      <th>2</th>\n",
       "      <td>mini</td>\n",
       "      <td>cooper</td>\n",
       "      <td>2023</td>\n",
       "      <td>31861</td>\n",
       "      <td>221583</td>\n",
       "      <td>Soft Top Convertible</td>\n",
       "      <td>4</td>\n",
       "      <td>Automatic Transmission</td>\n",
       "      <td>Gasoline</td>\n",
       "      <td>Grey</td>\n",
       "      <td>Dubai</td>\n",
       "      <td>2023 mini cooper with Adaptive cruise control,...</td>\n",
       "    </tr>\n",
       "    <tr>\n",
       "      <th>3</th>\n",
       "      <td>nissan</td>\n",
       "      <td>altima</td>\n",
       "      <td>2016</td>\n",
       "      <td>110322</td>\n",
       "      <td>69754</td>\n",
       "      <td>Sedan</td>\n",
       "      <td>4</td>\n",
       "      <td>Automatic Transmission</td>\n",
       "      <td>Gasoline</td>\n",
       "      <td>Red</td>\n",
       "      <td>Dubai</td>\n",
       "      <td>2016 nissan altima with Rear camera, Adaptive ...</td>\n",
       "    </tr>\n",
       "    <tr>\n",
       "      <th>4</th>\n",
       "      <td>toyota</td>\n",
       "      <td>land-cruiser-76-series</td>\n",
       "      <td>2020</td>\n",
       "      <td>139994</td>\n",
       "      <td>71399</td>\n",
       "      <td>Pick Up Truck</td>\n",
       "      <td>4</td>\n",
       "      <td>Manual Transmission</td>\n",
       "      <td>Gasoline</td>\n",
       "      <td>White</td>\n",
       "      <td>Dubai</td>\n",
       "      <td>2020 toyota land-cruiser-76-series with Adapti...</td>\n",
       "    </tr>\n",
       "  </tbody>\n",
       "</table>\n",
       "</div>"
      ],
      "text/plain": [
       "     Make                   Model  Year   Price  Mileage  \\\n",
       "0  toyota                   camry  2016   47819   156500   \n",
       "1     kia                 sorento  2013   61250   169543   \n",
       "2    mini                  cooper  2023   31861   221583   \n",
       "3  nissan                  altima  2016  110322    69754   \n",
       "4  toyota  land-cruiser-76-series  2020  139994    71399   \n",
       "\n",
       "              Body Type Cylinders            Transmission Fuel Type  Color  \\\n",
       "0                 Sedan         4  Automatic Transmission  Gasoline  Black   \n",
       "1                   SUV         4  Automatic Transmission  Gasoline   Grey   \n",
       "2  Soft Top Convertible         4  Automatic Transmission  Gasoline   Grey   \n",
       "3                 Sedan         4  Automatic Transmission  Gasoline    Red   \n",
       "4         Pick Up Truck         4     Manual Transmission  Gasoline  White   \n",
       "\n",
       "     Location                                        Description  \n",
       "0       Dubai  2016 toyota camry with Rear camera, Leather se...  \n",
       "1   Abu Dhabi  2013 kia sorento with Sunroof, Adaptive cruise...  \n",
       "2       Dubai  2023 mini cooper with Adaptive cruise control,...  \n",
       "3       Dubai  2016 nissan altima with Rear camera, Adaptive ...  \n",
       "4       Dubai  2020 toyota land-cruiser-76-series with Adapti...  "
      ]
     },
     "execution_count": 29,
     "metadata": {},
     "output_type": "execute_result"
    }
   ],
   "source": [
    "# Importing data\n",
    "data = pd.read_csv(r\"data\\uae_used_cars_10k.csv\")\n",
    "data.head()"
   ]
  },
  {
   "cell_type": "code",
   "execution_count": 30,
   "id": "26a46fe3",
   "metadata": {},
   "outputs": [
    {
     "name": "stdout",
     "output_type": "stream",
     "text": [
      "<class 'pandas.core.frame.DataFrame'>\n",
      "RangeIndex: 10000 entries, 0 to 9999\n",
      "Data columns (total 12 columns):\n",
      " #   Column        Non-Null Count  Dtype \n",
      "---  ------        --------------  ----- \n",
      " 0   Make          10000 non-null  object\n",
      " 1   Model         10000 non-null  object\n",
      " 2   Year          10000 non-null  int64 \n",
      " 3   Price         10000 non-null  int64 \n",
      " 4   Mileage       10000 non-null  int64 \n",
      " 5   Body Type     10000 non-null  object\n",
      " 6   Cylinders     9895 non-null   object\n",
      " 7   Transmission  10000 non-null  object\n",
      " 8   Fuel Type     10000 non-null  object\n",
      " 9   Color         10000 non-null  object\n",
      " 10  Location      10000 non-null  object\n",
      " 11  Description   10000 non-null  object\n",
      "dtypes: int64(3), object(9)\n",
      "memory usage: 937.6+ KB\n"
     ]
    }
   ],
   "source": [
    "# The information about the columns\n",
    "data.info()\n",
    "\n",
    "# The Cylinder column has Dtype object but the it has to be an integer or numeric"
   ]
  },
  {
   "cell_type": "code",
   "execution_count": 31,
   "id": "85c6891f",
   "metadata": {},
   "outputs": [
    {
     "data": {
      "text/plain": [
       "Make              0\n",
       "Model             0\n",
       "Year              0\n",
       "Price             0\n",
       "Mileage           0\n",
       "Body Type         0\n",
       "Cylinders       105\n",
       "Transmission      0\n",
       "Fuel Type         0\n",
       "Color             0\n",
       "Location          0\n",
       "Description       0\n",
       "dtype: int64"
      ]
     },
     "execution_count": 31,
     "metadata": {},
     "output_type": "execute_result"
    }
   ],
   "source": [
    "# Checking for null values\n",
    "data.isnull().sum()\n",
    "\n",
    "\n",
    "#The Cylinder column has 105 missing values that need  to be cleaned. In this case I am going to use the KNNImputer to fill in the missing values"
   ]
  },
  {
   "cell_type": "code",
   "execution_count": 32,
   "id": "10f92b54",
   "metadata": {},
   "outputs": [
    {
     "data": {
      "text/plain": [
       "9985"
      ]
     },
     "execution_count": 32,
     "metadata": {},
     "output_type": "execute_result"
    }
   ],
   "source": [
    "# The Description column will not contribute to the model performance\n",
    "data['Description'].nunique()"
   ]
  },
  {
   "cell_type": "code",
   "execution_count": 33,
   "id": "7750c0c8",
   "metadata": {},
   "outputs": [
    {
     "data": {
      "text/plain": [
       "np.int64(0)"
      ]
     },
     "execution_count": 33,
     "metadata": {},
     "output_type": "execute_result"
    }
   ],
   "source": [
    "# There  are no duplicate values\n",
    "data.duplicated().sum()"
   ]
  },
  {
   "cell_type": "markdown",
   "id": "735ffcc4",
   "metadata": {},
   "source": [
    "### Checking for categorical column one by one\n",
    "##### Make column"
   ]
  },
  {
   "cell_type": "code",
   "execution_count": 34,
   "id": "b030ddaa",
   "metadata": {},
   "outputs": [
    {
     "data": {
      "text/plain": [
       "Make\n",
       "mercedes-benz    1486\n",
       "nissan            925\n",
       "toyota            893\n",
       "bmw               698\n",
       "ford              541\n",
       "                 ... \n",
       "gac                 1\n",
       "haval               1\n",
       "baic                1\n",
       "smart               1\n",
       "morgan              1\n",
       "Name: count, Length: 65, dtype: int64"
      ]
     },
     "metadata": {},
     "output_type": "display_data"
    },
    {
     "name": "stdout",
     "output_type": "stream",
     "text": [
      "##################################################\n",
      "The number of the unique Make is: 65\n",
      " Too many to count\n",
      "##################################################\n"
     ]
    }
   ],
   "source": [
    "# A lot of the values are have the same values, there for I will combine the values into one \n",
    "# called the \"Other\" category\n",
    "display(data.Make.value_counts())\n",
    "print('#'*50)\n",
    "print(f\"The number of the unique Make is: {data.Make.nunique()}\\n Too many to count\")\n",
    "print('#'*50)"
   ]
  },
  {
   "cell_type": "markdown",
   "id": "0152f0b9",
   "metadata": {},
   "source": [
    "##### Model column"
   ]
  },
  {
   "cell_type": "code",
   "execution_count": 35,
   "id": "c6126d67",
   "metadata": {},
   "outputs": [
    {
     "data": {
      "text/plain": [
       "Model\n",
       "patrol               386\n",
       "s-class              288\n",
       "g-class              257\n",
       "land-cruiser         208\n",
       "range-rover-sport    198\n",
       "                    ... \n",
       "124-spider             1\n",
       "emgrand-8              1\n",
       "renegade               1\n",
       "xkr                    1\n",
       "ct5                    1\n",
       "Name: count, Length: 488, dtype: int64"
      ]
     },
     "metadata": {},
     "output_type": "display_data"
    },
    {
     "name": "stdout",
     "output_type": "stream",
     "text": [
      "##################################################\n",
      "The number of the unique models is: 488\n",
      " Too many to count\n",
      "##################################################\n"
     ]
    }
   ],
   "source": [
    "#The Model column has a lot of unique values, so I will also \n",
    "# combine the values into one called the \"Other\" category\n",
    "display(data.Model.value_counts())\n",
    "print('#'*50)\n",
    "print(f\"The number of the unique models is: {data.Model.nunique()}\\n Too many to count\")\n",
    "print('#'*50)"
   ]
  },
  {
   "cell_type": "markdown",
   "id": "542680e9",
   "metadata": {},
   "source": [
    "##### Body Type column"
   ]
  },
  {
   "cell_type": "code",
   "execution_count": 36,
   "id": "506570e0",
   "metadata": {},
   "outputs": [
    {
     "data": {
      "text/plain": [
       "Body Type\n",
       "SUV                     4607\n",
       "Sedan                   2790\n",
       "Coupe                    837\n",
       "Pick Up Truck            432\n",
       "Hatchback                334\n",
       "Sports Car               270\n",
       "Van                      143\n",
       "Hard Top Convertible     139\n",
       "Crossover                136\n",
       "Soft Top Convertible     120\n",
       "Other                    114\n",
       "Wagon                     44\n",
       "Utility Truck             34\n",
       "Name: count, dtype: int64"
      ]
     },
     "metadata": {},
     "output_type": "display_data"
    },
    {
     "name": "stdout",
     "output_type": "stream",
     "text": [
      "##################################################\n",
      "The number of unique values is optimal\n",
      "##################################################\n"
     ]
    }
   ],
   "source": [
    "display(data[\"Body Type\"].value_counts())\n",
    "print(\"#\"*50)\n",
    "print(\"The number of unique values is optimal\")\n",
    "print(\"#\"*50)"
   ]
  },
  {
   "cell_type": "markdown",
   "id": "40d5ad08",
   "metadata": {},
   "source": [
    "##### Transmission column"
   ]
  },
  {
   "cell_type": "code",
   "execution_count": 37,
   "id": "65b41f4c",
   "metadata": {},
   "outputs": [
    {
     "data": {
      "text/plain": [
       "Transmission\n",
       "Automatic Transmission    9626\n",
       "Manual Transmission        374\n",
       "Name: count, dtype: int64"
      ]
     },
     "metadata": {},
     "output_type": "display_data"
    },
    {
     "name": "stdout",
     "output_type": "stream",
     "text": [
      "##################################################\n",
      "The values are only two and therefore there is no need for further operations \n",
      "on this columnn\n",
      "##################################################\n"
     ]
    }
   ],
   "source": [
    "display(data[\"Transmission\"].value_counts())\n",
    "print(\"#\"*50)\n",
    "print(\"The values are only two and therefore there is no need for further operations \\non this columnn\")\n",
    "print(\"#\"*50)"
   ]
  },
  {
   "cell_type": "markdown",
   "id": "00624e7c",
   "metadata": {},
   "source": [
    "##### Fuel Type column"
   ]
  },
  {
   "cell_type": "code",
   "execution_count": 38,
   "id": "3d9d170f",
   "metadata": {},
   "outputs": [
    {
     "data": {
      "text/plain": [
       "Fuel Type\n",
       "Gasoline    9714\n",
       "Diesel       153\n",
       "Electric     110\n",
       "Hybrid        23\n",
       "Name: count, dtype: int64"
      ]
     },
     "metadata": {},
     "output_type": "display_data"
    },
    {
     "name": "stdout",
     "output_type": "stream",
     "text": [
      "##################################################\n",
      "The value counts in the column are manageable\n",
      "##################################################\n"
     ]
    }
   ],
   "source": [
    "display(data[\"Fuel Type\"].value_counts())\n",
    "print(\"#\"*50)\n",
    "print(\"The value counts in the column are manageable\")\n",
    "print(\"#\"*50)"
   ]
  },
  {
   "cell_type": "markdown",
   "id": "b77a34d8",
   "metadata": {},
   "source": [
    "##### Color column"
   ]
  },
  {
   "cell_type": "code",
   "execution_count": 39,
   "id": "9a09b7d6",
   "metadata": {},
   "outputs": [
    {
     "data": {
      "text/plain": [
       "Color\n",
       "White          3355\n",
       "Black          2126\n",
       "Grey           1307\n",
       "Silver          866\n",
       "Blue            686\n",
       "Red             635\n",
       "Gold            238\n",
       "Brown           235\n",
       "Green           154\n",
       "Burgundy         78\n",
       "Other Color      78\n",
       "Beige            75\n",
       "Yellow           67\n",
       "Orange           57\n",
       "Purple           26\n",
       "Teal             11\n",
       "Tan               6\n",
       "Name: count, dtype: int64"
      ]
     },
     "metadata": {},
     "output_type": "display_data"
    },
    {
     "name": "stdout",
     "output_type": "stream",
     "text": [
      "##################################################\n",
      "The number of categories is manageable\n",
      "##################################################\n"
     ]
    }
   ],
   "source": [
    "display(data[\"Color\"].value_counts())\n",
    "print(\"#\"*50)\n",
    "print(\"The number of categories is manageable\")\n",
    "print(\"#\"*50)"
   ]
  },
  {
   "cell_type": "markdown",
   "id": "27d58877",
   "metadata": {},
   "source": [
    "#### Location column"
   ]
  },
  {
   "cell_type": "code",
   "execution_count": 40,
   "id": "ffc0572a",
   "metadata": {},
   "outputs": [
    {
     "data": {
      "text/plain": [
       "Location\n",
       " Dubai             7990\n",
       " Sharjah            968\n",
       " Abu Dhabi          680\n",
       " Ajman              163\n",
       "Abu Dhabi            52\n",
       " Al Ain              36\n",
       "Sharjah              31\n",
       "Dubai                21\n",
       " Ras Al Khaimah      16\n",
       "Ajman                11\n",
       "Al Ain               11\n",
       " Fujeirah             8\n",
       " Umm Al Qawain        8\n",
       "Umm Al Qawain         2\n",
       "Ras Al Khaimah        2\n",
       "Fujeirah              1\n",
       "Name: count, dtype: int64"
      ]
     },
     "metadata": {},
     "output_type": "display_data"
    },
    {
     "name": "stdout",
     "output_type": "stream",
     "text": [
      "##################################################\n",
      "I will label all the categories with < 20 counts as 'Other'\n",
      " because the rest of the counts are too small\n",
      "##################################################\n"
     ]
    }
   ],
   "source": [
    "display(data[\"Location\"].value_counts())\n",
    "print(\"#\"*50)\n",
    "print(\"I will label all the categories with < 20 counts as 'Other'\\n because the rest of the counts are too small\")\n",
    "print(\"#\"*50)"
   ]
  },
  {
   "cell_type": "markdown",
   "id": "683e247a",
   "metadata": {},
   "source": [
    "## Cleaning function"
   ]
  },
  {
   "cell_type": "code",
   "execution_count": null,
   "id": "002b02c6",
   "metadata": {},
   "outputs": [],
   "source": [
    "# Importing libraries\n",
    "from sklearn.impute import KNNImputer\n",
    "from sklearn.preprocessing import OrdinalEncoder"
   ]
  },
  {
   "cell_type": "code",
   "execution_count": null,
   "id": "2683edd7",
   "metadata": {},
   "outputs": [],
   "source": [
    "# cleaning function\n",
    "\n",
    "def warangle(filepath):\n",
    "  # Importing the data\n",
    "  df = pd.read_csv(filepath)\n",
    "\n",
    "  # Converting the Cylinder column to type integer\n",
    "  df['Cylinders'] = pd.to_numeric(df['Cylinders'], errors='coerce')\n",
    "\n",
    "  # Filling the missing values\n",
    "  imputer = KNNImputer(n_neighbors=4)\n",
    "  df['Cylinders'] = imputer.fit_transform(df['Cylinders'].to_frame())\n",
    "\n",
    "  # Dropping the \"Description\" column since it does'nt contribute much to model performance\n",
    "  df = df.drop(\"Description\", axis=1)\n",
    "\n",
    "  # Combining the values with less than 200 counts into the \"Other\" category\n",
    "  value_counts_make = df.Make.value_counts()\n",
    "  common_values = value_counts_make[value_counts_make > 200].index\n",
    "  df[\"Make\"] = df.Make.apply(lambda x: x if x in common_values else \"Other\")\n",
    "\n",
    "  # Combining the values with less than 100 in the \"Model\" column with \"Other\" category\n",
    "  value_counts_model = df.Model.value_counts()\n",
    "  filtered_models = value_counts_model[value_counts_model > 100].index\n",
    "  df[\"Model\"] = df.Model.apply(lambda x: x if x in filtered_models else \"Other\")\n",
    "\n",
    "  # Combining the value counts with counts of less 20 in the \"Location\" with a  category as \"Other\"\n",
    "  value_counts_Location = df[\"Location\"].value_counts()\n",
    "  filtered_locations = value_counts_Location[value_counts_Location > 20].index\n",
    "  df[\"Location\"] = df[\"Location\"].apply(lambda x: x if x in  filtered_locations else \"Other\")\n",
    "\n",
    "  # Encoding the categorical columns\n",
    "  encoder = OrdinalEncoder()\n",
    "  categorical_columns = df.select_dtypes(\"object\").columns.to_list()\n",
    "  df[categorical_columns] = encoder.fit_transform(df[categorical_columns])\n",
    "  \n",
    "    \n",
    "  return df"
   ]
  },
  {
   "cell_type": "code",
   "execution_count": null,
   "id": "47b31174",
   "metadata": {},
   "outputs": [],
   "source": [
    "df = warangle(r\"data\\uae_used_cars_10k.csv\")"
   ]
  },
  {
   "cell_type": "code",
   "execution_count": null,
   "id": "bf2a9ad9",
   "metadata": {},
   "outputs": [
    {
     "data": {
      "text/html": [
       "<div>\n",
       "<style scoped>\n",
       "    .dataframe tbody tr th:only-of-type {\n",
       "        vertical-align: middle;\n",
       "    }\n",
       "\n",
       "    .dataframe tbody tr th {\n",
       "        vertical-align: top;\n",
       "    }\n",
       "\n",
       "    .dataframe thead th {\n",
       "        text-align: right;\n",
       "    }\n",
       "</style>\n",
       "<table border=\"1\" class=\"dataframe\">\n",
       "  <thead>\n",
       "    <tr style=\"text-align: right;\">\n",
       "      <th></th>\n",
       "      <th>Make</th>\n",
       "      <th>Model</th>\n",
       "      <th>Year</th>\n",
       "      <th>Price</th>\n",
       "      <th>Mileage</th>\n",
       "      <th>Body Type</th>\n",
       "      <th>Cylinders</th>\n",
       "      <th>Transmission</th>\n",
       "      <th>Fuel Type</th>\n",
       "      <th>Color</th>\n",
       "      <th>Location</th>\n",
       "    </tr>\n",
       "  </thead>\n",
       "  <tbody>\n",
       "    <tr>\n",
       "      <th>0</th>\n",
       "      <td>14.0</td>\n",
       "      <td>1.0</td>\n",
       "      <td>2016</td>\n",
       "      <td>47819</td>\n",
       "      <td>156500</td>\n",
       "      <td>7.0</td>\n",
       "      <td>4.0</td>\n",
       "      <td>0.0</td>\n",
       "      <td>2.0</td>\n",
       "      <td>1.0</td>\n",
       "      <td>3.0</td>\n",
       "    </tr>\n",
       "    <tr>\n",
       "      <th>1</th>\n",
       "      <td>0.0</td>\n",
       "      <td>1.0</td>\n",
       "      <td>2013</td>\n",
       "      <td>61250</td>\n",
       "      <td>169543</td>\n",
       "      <td>6.0</td>\n",
       "      <td>4.0</td>\n",
       "      <td>0.0</td>\n",
       "      <td>2.0</td>\n",
       "      <td>7.0</td>\n",
       "      <td>0.0</td>\n",
       "    </tr>\n",
       "    <tr>\n",
       "      <th>2</th>\n",
       "      <td>0.0</td>\n",
       "      <td>1.0</td>\n",
       "      <td>2023</td>\n",
       "      <td>31861</td>\n",
       "      <td>221583</td>\n",
       "      <td>8.0</td>\n",
       "      <td>4.0</td>\n",
       "      <td>0.0</td>\n",
       "      <td>2.0</td>\n",
       "      <td>7.0</td>\n",
       "      <td>3.0</td>\n",
       "    </tr>\n",
       "    <tr>\n",
       "      <th>3</th>\n",
       "      <td>12.0</td>\n",
       "      <td>2.0</td>\n",
       "      <td>2016</td>\n",
       "      <td>110322</td>\n",
       "      <td>69754</td>\n",
       "      <td>7.0</td>\n",
       "      <td>4.0</td>\n",
       "      <td>0.0</td>\n",
       "      <td>2.0</td>\n",
       "      <td>11.0</td>\n",
       "      <td>3.0</td>\n",
       "    </tr>\n",
       "    <tr>\n",
       "      <th>4</th>\n",
       "      <td>14.0</td>\n",
       "      <td>1.0</td>\n",
       "      <td>2020</td>\n",
       "      <td>139994</td>\n",
       "      <td>71399</td>\n",
       "      <td>5.0</td>\n",
       "      <td>4.0</td>\n",
       "      <td>1.0</td>\n",
       "      <td>2.0</td>\n",
       "      <td>15.0</td>\n",
       "      <td>3.0</td>\n",
       "    </tr>\n",
       "  </tbody>\n",
       "</table>\n",
       "</div>"
      ],
      "text/plain": [
       "   Make  Model  Year   Price  Mileage  Body Type  Cylinders  Transmission  \\\n",
       "0  14.0    1.0  2016   47819   156500        7.0        4.0           0.0   \n",
       "1   0.0    1.0  2013   61250   169543        6.0        4.0           0.0   \n",
       "2   0.0    1.0  2023   31861   221583        8.0        4.0           0.0   \n",
       "3  12.0    2.0  2016  110322    69754        7.0        4.0           0.0   \n",
       "4  14.0    1.0  2020  139994    71399        5.0        4.0           1.0   \n",
       "\n",
       "   Fuel Type  Color  Location  \n",
       "0        2.0    1.0       3.0  \n",
       "1        2.0    7.0       0.0  \n",
       "2        2.0    7.0       3.0  \n",
       "3        2.0   11.0       3.0  \n",
       "4        2.0   15.0       3.0  "
      ]
     },
     "execution_count": 23,
     "metadata": {},
     "output_type": "execute_result"
    }
   ],
   "source": [
    "df.head()"
   ]
  }
 ],
 "metadata": {
  "kernelspec": {
   "display_name": "Python 3",
   "language": "python",
   "name": "python3"
  },
  "language_info": {
   "codemirror_mode": {
    "name": "ipython",
    "version": 3
   },
   "file_extension": ".py",
   "mimetype": "text/x-python",
   "name": "python",
   "nbconvert_exporter": "python",
   "pygments_lexer": "ipython3",
   "version": "3.13.2"
  }
 },
 "nbformat": 4,
 "nbformat_minor": 5
}
