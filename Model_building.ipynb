{
 "cells": [
  {
   "cell_type": "markdown",
   "id": "eb40e191",
   "metadata": {},
   "source": [
    "## Exploratory Data Analysis (EDA)"
   ]
  },
  {
   "cell_type": "code",
   "execution_count": 48,
   "id": "5ac96109",
   "metadata": {},
   "outputs": [],
   "source": [
    "# Importing libraries\n",
    "import pandas as pd \n",
    "import numpy as np\n",
    "import matplotlib.pyplot as plt\n",
    "import seaborn as sns\n",
    "from datetime import date\n",
    "\n",
    "from sklearn.impute import KNNImputer\n",
    "from sklearn.preprocessing import OrdinalEncoder\n",
    "from sklearn.model_selection import train_test_split"
   ]
  },
  {
   "cell_type": "code",
   "execution_count": 49,
   "id": "fe80c2dc",
   "metadata": {},
   "outputs": [],
   "source": [
    "# cleaning function\n",
    "\n",
    "def warangle(filepath):\n",
    "  # Importing the data\n",
    "  df = pd.read_csv(filepath)\n",
    "\n",
    "  # Converting the Cylinder column to type integer\n",
    "  df['Cylinders'] = pd.to_numeric(df['Cylinders'], errors='coerce')\n",
    "\n",
    "  # Filling the missing values\n",
    "  imputer = KNNImputer(n_neighbors=4)\n",
    "  df['Cylinders'] = imputer.fit_transform(df['Cylinders'].to_frame())\n",
    "\n",
    "  # Dropping the \"Description\" column since it does'nt contribute much to model performance\n",
    "  df = df.drop(\"Description\", axis=1)\n",
    "\n",
    "  # Combining the values with less than 200 counts into the \"Other\" category\n",
    "  value_counts_make = df.Make.value_counts()\n",
    "  common_values = value_counts_make[value_counts_make > 200].index\n",
    "  df[\"Make\"] = df.Make.apply(lambda x: x if x in common_values else \"Other\")\n",
    "\n",
    "  # Combining the values with less than 100 in the \"Model\" column with \"Other\" category\n",
    "  value_counts_model = df.Model.value_counts()\n",
    "  filtered_models = value_counts_model[value_counts_model > 100].index\n",
    "  df[\"Model\"] = df.Model.apply(lambda x: x if x in filtered_models else \"Other\")\n",
    "\n",
    "  # Combining the value counts with counts of less 20 in the \"Location\" with a  category as \"Other\"\n",
    "  value_counts_Location = df[\"Location\"].value_counts()\n",
    "  filtered_locations = value_counts_Location[value_counts_Location > 20].index\n",
    "  df[\"Location\"] = df[\"Location\"].apply(lambda x: x if x in  filtered_locations else \"Other\")\n",
    "\n",
    "  # Encoding the categorical columns\n",
    "  encoder = OrdinalEncoder()\n",
    "  categorical_columns = df.select_dtypes(\"object\").columns.to_list()\n",
    "  df[categorical_columns] = encoder.fit_transform(df[categorical_columns])\n",
    "  \n",
    "    \n",
    "  return df"
   ]
  },
  {
   "cell_type": "code",
   "execution_count": 50,
   "id": "a10f2a13",
   "metadata": {},
   "outputs": [],
   "source": [
    "# Loading the data\n",
    "df = warangle(r\"data\\uae_used_cars_10k.csv\")"
   ]
  },
  {
   "cell_type": "code",
   "execution_count": 51,
   "id": "ac05b55b",
   "metadata": {},
   "outputs": [
    {
     "data": {
      "text/html": [
       "<div>\n",
       "<style scoped>\n",
       "    .dataframe tbody tr th:only-of-type {\n",
       "        vertical-align: middle;\n",
       "    }\n",
       "\n",
       "    .dataframe tbody tr th {\n",
       "        vertical-align: top;\n",
       "    }\n",
       "\n",
       "    .dataframe thead th {\n",
       "        text-align: right;\n",
       "    }\n",
       "</style>\n",
       "<table border=\"1\" class=\"dataframe\">\n",
       "  <thead>\n",
       "    <tr style=\"text-align: right;\">\n",
       "      <th></th>\n",
       "      <th>Make</th>\n",
       "      <th>Model</th>\n",
       "      <th>Year</th>\n",
       "      <th>Price</th>\n",
       "      <th>Mileage</th>\n",
       "      <th>Body Type</th>\n",
       "      <th>Cylinders</th>\n",
       "      <th>Transmission</th>\n",
       "      <th>Fuel Type</th>\n",
       "      <th>Color</th>\n",
       "      <th>Location</th>\n",
       "    </tr>\n",
       "  </thead>\n",
       "  <tbody>\n",
       "    <tr>\n",
       "      <th>0</th>\n",
       "      <td>14.0</td>\n",
       "      <td>1.0</td>\n",
       "      <td>2016</td>\n",
       "      <td>47819</td>\n",
       "      <td>156500</td>\n",
       "      <td>7.0</td>\n",
       "      <td>4.0</td>\n",
       "      <td>0.0</td>\n",
       "      <td>2.0</td>\n",
       "      <td>1.0</td>\n",
       "      <td>3.0</td>\n",
       "    </tr>\n",
       "    <tr>\n",
       "      <th>1</th>\n",
       "      <td>0.0</td>\n",
       "      <td>1.0</td>\n",
       "      <td>2013</td>\n",
       "      <td>61250</td>\n",
       "      <td>169543</td>\n",
       "      <td>6.0</td>\n",
       "      <td>4.0</td>\n",
       "      <td>0.0</td>\n",
       "      <td>2.0</td>\n",
       "      <td>7.0</td>\n",
       "      <td>0.0</td>\n",
       "    </tr>\n",
       "    <tr>\n",
       "      <th>2</th>\n",
       "      <td>0.0</td>\n",
       "      <td>1.0</td>\n",
       "      <td>2023</td>\n",
       "      <td>31861</td>\n",
       "      <td>221583</td>\n",
       "      <td>8.0</td>\n",
       "      <td>4.0</td>\n",
       "      <td>0.0</td>\n",
       "      <td>2.0</td>\n",
       "      <td>7.0</td>\n",
       "      <td>3.0</td>\n",
       "    </tr>\n",
       "    <tr>\n",
       "      <th>3</th>\n",
       "      <td>12.0</td>\n",
       "      <td>2.0</td>\n",
       "      <td>2016</td>\n",
       "      <td>110322</td>\n",
       "      <td>69754</td>\n",
       "      <td>7.0</td>\n",
       "      <td>4.0</td>\n",
       "      <td>0.0</td>\n",
       "      <td>2.0</td>\n",
       "      <td>11.0</td>\n",
       "      <td>3.0</td>\n",
       "    </tr>\n",
       "    <tr>\n",
       "      <th>4</th>\n",
       "      <td>14.0</td>\n",
       "      <td>1.0</td>\n",
       "      <td>2020</td>\n",
       "      <td>139994</td>\n",
       "      <td>71399</td>\n",
       "      <td>5.0</td>\n",
       "      <td>4.0</td>\n",
       "      <td>1.0</td>\n",
       "      <td>2.0</td>\n",
       "      <td>15.0</td>\n",
       "      <td>3.0</td>\n",
       "    </tr>\n",
       "  </tbody>\n",
       "</table>\n",
       "</div>"
      ],
      "text/plain": [
       "   Make  Model  Year   Price  Mileage  Body Type  Cylinders  Transmission  \\\n",
       "0  14.0    1.0  2016   47819   156500        7.0        4.0           0.0   \n",
       "1   0.0    1.0  2013   61250   169543        6.0        4.0           0.0   \n",
       "2   0.0    1.0  2023   31861   221583        8.0        4.0           0.0   \n",
       "3  12.0    2.0  2016  110322    69754        7.0        4.0           0.0   \n",
       "4  14.0    1.0  2020  139994    71399        5.0        4.0           1.0   \n",
       "\n",
       "   Fuel Type  Color  Location  \n",
       "0        2.0    1.0       3.0  \n",
       "1        2.0    7.0       0.0  \n",
       "2        2.0    7.0       3.0  \n",
       "3        2.0   11.0       3.0  \n",
       "4        2.0   15.0       3.0  "
      ]
     },
     "execution_count": 51,
     "metadata": {},
     "output_type": "execute_result"
    }
   ],
   "source": [
    "# Overview of the data\n",
    "df.head()"
   ]
  },
  {
   "cell_type": "code",
   "execution_count": 52,
   "id": "2b134513",
   "metadata": {},
   "outputs": [
    {
     "data": {
      "image/png": "[encoded data removed]",
      "text/plain": [
       "<Figure size 1000x800 with 3 Axes>"
      ]
     },
     "metadata": {},
     "output_type": "display_data"
    }
   ],
   "source": [
    "# checking for outliers in the dataset\n",
    "\n",
    "\n",
    "# The \"Price\" column as a lot of the outliers\n",
    "# in the dataset while the rest of the numerical columns have no outliers\n",
    "\n",
    "# I will use log transformation onthe price column to reduce the effect of the skewed data\n",
    "\n",
    "columns = [\"Price\", \"Mileage\", \"Cylinders\"]\n",
    "fig, ax = plt.subplots(3, 1, figsize=(10, 8))\n",
    "fig.suptitle(\"The boxplot of key car features\", fontsize=16)\n",
    "ax.flatten()\n",
    "for i, col in enumerate(columns):\n",
    "  df[col].plot(kind=\"box\", vert=False, ax=ax[i])\n",
    "  ax[i].set_title(col)\n",
    "\n",
    "plt.tight_layout(rect=[0, 0.03, 1, 0.95])\n",
    "plt.show()"
   ]
  },
  {
   "cell_type": "code",
   "execution_count": 53,
   "id": "cbcf7985",
   "metadata": {},
   "outputs": [
    {
     "data": {
      "image/png": "[encoded data removed]",
      "text/plain": [
       "<Figure size 1000x800 with 2 Axes>"
      ]
     },
     "metadata": {},
     "output_type": "display_data"
    }
   ],
   "source": [
    "# Checking for the multicolinearity between the features\n",
    "\n",
    "# All the columns are below the threshold of the correlation,\n",
    "#therefore we are good to go.\n",
    "\n",
    "threshold = 0.8\n",
    "corr = df.drop(columns=\"Price\").corr()>threshold\n",
    "plt.subplots(figsize=(10, 8))\n",
    "sns.heatmap(corr, annot=True)\n",
    "plt.show()"
   ]
  },
  {
   "cell_type": "code",
   "execution_count": 54,
   "id": "a36acbb7",
   "metadata": {},
   "outputs": [
    {
     "data": {
      "text/html": [
       "<div>\n",
       "<style scoped>\n",
       "    .dataframe tbody tr th:only-of-type {\n",
       "        vertical-align: middle;\n",
       "    }\n",
       "\n",
       "    .dataframe tbody tr th {\n",
       "        vertical-align: top;\n",
       "    }\n",
       "\n",
       "    .dataframe thead th {\n",
       "        text-align: right;\n",
       "    }\n",
       "</style>\n",
       "<table border=\"1\" class=\"dataframe\">\n",
       "  <thead>\n",
       "    <tr style=\"text-align: right;\">\n",
       "      <th></th>\n",
       "      <th>0</th>\n",
       "    </tr>\n",
       "  </thead>\n",
       "  <tbody>\n",
       "    <tr>\n",
       "      <th>Make</th>\n",
       "      <td>-0.150901</td>\n",
       "    </tr>\n",
       "    <tr>\n",
       "      <th>Model</th>\n",
       "      <td>0.026200</td>\n",
       "    </tr>\n",
       "    <tr>\n",
       "      <th>Year</th>\n",
       "      <td>0.000188</td>\n",
       "    </tr>\n",
       "    <tr>\n",
       "      <th>Mileage</th>\n",
       "      <td>0.010685</td>\n",
       "    </tr>\n",
       "    <tr>\n",
       "      <th>Body Type</th>\n",
       "      <td>-0.040483</td>\n",
       "    </tr>\n",
       "    <tr>\n",
       "      <th>Cylinders</th>\n",
       "      <td>0.446154</td>\n",
       "    </tr>\n",
       "    <tr>\n",
       "      <th>Transmission</th>\n",
       "      <td>-0.053886</td>\n",
       "    </tr>\n",
       "    <tr>\n",
       "      <th>Fuel Type</th>\n",
       "      <td>0.037254</td>\n",
       "    </tr>\n",
       "    <tr>\n",
       "      <th>Color</th>\n",
       "      <td>-0.069367</td>\n",
       "    </tr>\n",
       "    <tr>\n",
       "      <th>Location</th>\n",
       "      <td>0.011541</td>\n",
       "    </tr>\n",
       "  </tbody>\n",
       "</table>\n",
       "</div>"
      ],
      "text/plain": [
       "                     0\n",
       "Make         -0.150901\n",
       "Model         0.026200\n",
       "Year          0.000188\n",
       "Mileage       0.010685\n",
       "Body Type    -0.040483\n",
       "Cylinders     0.446154\n",
       "Transmission -0.053886\n",
       "Fuel Type     0.037254\n",
       "Color        -0.069367\n",
       "Location      0.011541"
      ]
     },
     "execution_count": 54,
     "metadata": {},
     "output_type": "execute_result"
    }
   ],
   "source": [
    "# Correlation of features with the target vector\n",
    "corr_features = df.drop(columns=\"Price\").columns.tolist()\n",
    "\n",
    "target_feature_correlation = df[corr_features].corrwith(df[\"Price\"])\n",
    "\n",
    "pd.DataFrame(target_feature_correlation)\n",
    "\n",
    "# print(\"#\"*50)\n",
    "# print(\"The features have no much correlation between themselves and the \" \\\n",
    "# \"'Make' column\\nhas the a negative correlation with the target vector\\nwhile the 'Cylinders' \" \\\n",
    "# \"column has the biggest positive correlation with the target vector  \")\n",
    "# print(\"#\"*50)"
   ]
  },
  {
   "cell_type": "code",
   "execution_count": 55,
   "id": "ae21228e",
   "metadata": {},
   "outputs": [],
   "source": [
    "# I will take the log of the 'Price' column to reduce the effect of the skewed data\n",
    "df[\"Log_price\"] = np.log1p(df[\"Price\"])"
   ]
  },
  {
   "cell_type": "code",
   "execution_count": 56,
   "id": "c70dab88",
   "metadata": {},
   "outputs": [
    {
     "data": {
      "image/png": "[encoded data removed]",
      "text/plain": [
       "<Figure size 640x480 with 1 Axes>"
      ]
     },
     "metadata": {},
     "output_type": "display_data"
    }
   ],
   "source": [
    "# The effect of the outliers is reduced by the log function\n",
    "df[\"Log_price\"].plot(kind=\"box\", vert=False)\n",
    "plt.title(\"The result of the log transform\")\n",
    "plt.show()\n",
    "\n",
    "# I will have to drop the 'Price' to avoid the cheating the algorithm\n",
    "df = df.drop(\"Price\", axis=1)"
   ]
  },
  {
   "cell_type": "markdown",
   "id": "692067eb",
   "metadata": {},
   "source": [
    "## Feature Engineering"
   ]
  },
  {
   "cell_type": "code",
   "execution_count": 57,
   "id": "98c74649",
   "metadata": {},
   "outputs": [],
   "source": [
    "# Feature engineering of the Year column\n",
    "current_year = date.today().year\n",
    "car_year = df['Year']\n",
    "\n",
    "df[\"car_age\"] = current_year - car_year"
   ]
  },
  {
   "cell_type": "code",
   "execution_count": 58,
   "id": "4d29e3c7",
   "metadata": {},
   "outputs": [
    {
     "data": {
      "text/html": [
       "<div>\n",
       "<style scoped>\n",
       "    .dataframe tbody tr th:only-of-type {\n",
       "        vertical-align: middle;\n",
       "    }\n",
       "\n",
       "    .dataframe tbody tr th {\n",
       "        vertical-align: top;\n",
       "    }\n",
       "\n",
       "    .dataframe thead th {\n",
       "        text-align: right;\n",
       "    }\n",
       "</style>\n",
       "<table border=\"1\" class=\"dataframe\">\n",
       "  <thead>\n",
       "    <tr style=\"text-align: right;\">\n",
       "      <th></th>\n",
       "      <th>Make</th>\n",
       "      <th>Model</th>\n",
       "      <th>Year</th>\n",
       "      <th>Mileage</th>\n",
       "      <th>Body Type</th>\n",
       "      <th>Cylinders</th>\n",
       "      <th>Transmission</th>\n",
       "      <th>Fuel Type</th>\n",
       "      <th>Color</th>\n",
       "      <th>Location</th>\n",
       "      <th>Log_price</th>\n",
       "      <th>car_age</th>\n",
       "    </tr>\n",
       "  </thead>\n",
       "  <tbody>\n",
       "    <tr>\n",
       "      <th>0</th>\n",
       "      <td>14.0</td>\n",
       "      <td>1.0</td>\n",
       "      <td>2016</td>\n",
       "      <td>156500</td>\n",
       "      <td>7.0</td>\n",
       "      <td>4.0</td>\n",
       "      <td>0.0</td>\n",
       "      <td>2.0</td>\n",
       "      <td>1.0</td>\n",
       "      <td>3.0</td>\n",
       "      <td>10.775199</td>\n",
       "      <td>9</td>\n",
       "    </tr>\n",
       "    <tr>\n",
       "      <th>1</th>\n",
       "      <td>0.0</td>\n",
       "      <td>1.0</td>\n",
       "      <td>2013</td>\n",
       "      <td>169543</td>\n",
       "      <td>6.0</td>\n",
       "      <td>4.0</td>\n",
       "      <td>0.0</td>\n",
       "      <td>2.0</td>\n",
       "      <td>7.0</td>\n",
       "      <td>0.0</td>\n",
       "      <td>11.022735</td>\n",
       "      <td>12</td>\n",
       "    </tr>\n",
       "    <tr>\n",
       "      <th>2</th>\n",
       "      <td>0.0</td>\n",
       "      <td>1.0</td>\n",
       "      <td>2023</td>\n",
       "      <td>221583</td>\n",
       "      <td>8.0</td>\n",
       "      <td>4.0</td>\n",
       "      <td>0.0</td>\n",
       "      <td>2.0</td>\n",
       "      <td>7.0</td>\n",
       "      <td>3.0</td>\n",
       "      <td>10.369169</td>\n",
       "      <td>2</td>\n",
       "    </tr>\n",
       "    <tr>\n",
       "      <th>3</th>\n",
       "      <td>12.0</td>\n",
       "      <td>2.0</td>\n",
       "      <td>2016</td>\n",
       "      <td>69754</td>\n",
       "      <td>7.0</td>\n",
       "      <td>4.0</td>\n",
       "      <td>0.0</td>\n",
       "      <td>2.0</td>\n",
       "      <td>11.0</td>\n",
       "      <td>3.0</td>\n",
       "      <td>11.611168</td>\n",
       "      <td>9</td>\n",
       "    </tr>\n",
       "    <tr>\n",
       "      <th>4</th>\n",
       "      <td>14.0</td>\n",
       "      <td>1.0</td>\n",
       "      <td>2020</td>\n",
       "      <td>71399</td>\n",
       "      <td>5.0</td>\n",
       "      <td>4.0</td>\n",
       "      <td>1.0</td>\n",
       "      <td>2.0</td>\n",
       "      <td>15.0</td>\n",
       "      <td>3.0</td>\n",
       "      <td>11.849362</td>\n",
       "      <td>5</td>\n",
       "    </tr>\n",
       "  </tbody>\n",
       "</table>\n",
       "</div>"
      ],
      "text/plain": [
       "   Make  Model  Year  Mileage  Body Type  Cylinders  Transmission  Fuel Type  \\\n",
       "0  14.0    1.0  2016   156500        7.0        4.0           0.0        2.0   \n",
       "1   0.0    1.0  2013   169543        6.0        4.0           0.0        2.0   \n",
       "2   0.0    1.0  2023   221583        8.0        4.0           0.0        2.0   \n",
       "3  12.0    2.0  2016    69754        7.0        4.0           0.0        2.0   \n",
       "4  14.0    1.0  2020    71399        5.0        4.0           1.0        2.0   \n",
       "\n",
       "   Color  Location  Log_price  car_age  \n",
       "0    1.0       3.0  10.775199        9  \n",
       "1    7.0       0.0  11.022735       12  \n",
       "2    7.0       3.0  10.369169        2  \n",
       "3   11.0       3.0  11.611168        9  \n",
       "4   15.0       3.0  11.849362        5  "
      ]
     },
     "execution_count": 58,
     "metadata": {},
     "output_type": "execute_result"
    }
   ],
   "source": [
    "# Current dataframe after feature engineering\n",
    "df.head()"
   ]
  },
  {
   "cell_type": "markdown",
   "id": "a0928d56",
   "metadata": {},
   "source": [
    "## Splitting the data\n",
    "The data will be split into training and testing sets"
   ]
  },
  {
   "cell_type": "code",
   "execution_count": 59,
   "id": "233f109e",
   "metadata": {},
   "outputs": [
    {
     "name": "stdout",
     "output_type": "stream",
     "text": [
      "######################################################################\n",
      "The shape of the feature matrix of the training set is: (8000, 11)\n",
      "The shape of the target vector of the training set is: (8000,) \n",
      "----------------------------------------------------------------------\n",
      "The shape of the feature matrix of the test set is: (2000, 11)\n",
      "The shape of the target vector of the test set is: (2000,) \n",
      "######################################################################\n",
      "The shape of the X_train: (7200, 11)\n",
      "The shape of the y_train: (7200,) \n",
      "----------------------------------------------------------------------\n",
      "The shape of X_val: (2000, 11)\n",
      "The shape of y_val: (2000,) \n",
      "######################################################################\n"
     ]
    }
   ],
   "source": [
    "# Features\n",
    "X = df.drop(columns=\"Log_price\")\n",
    "\n",
    "# Target\n",
    "y = df[\"Log_price\"]\n",
    "\n",
    "# training and testing data\n",
    "X_train_split, X_test, y_train_split, y_test = train_test_split(X, y, train_size=0.8, random_state=256)\n",
    "\n",
    "# Splitting the data into X_train and X_val sets\n",
    "X_train, X_val, y_train, y_val = train_test_split(X_train_split, y_train_split, test_size=0.1, random_state=256) \n",
    "\n",
    "print(\"#\"*70)\n",
    "print(f\"The shape of the feature matrix of the training set is: {X_train_split.shape}\")\n",
    "print(f\"The shape of the target vector of the training set is: {y_train_split.shape} \")\n",
    "print(\"-\"*70)\n",
    "print(f\"The shape of the feature matrix of the test set is: {X_test.shape}\")\n",
    "print(f\"The shape of the target vector of the test set is: {y_test.shape} \")\n",
    "print(\"#\"*70)\n",
    "\n",
    "print(f\"The shape of the X_train: {X_train.shape}\")\n",
    "print(f\"The shape of the y_train: {y_train.shape} \")\n",
    "print(\"-\"*70)\n",
    "print(f\"The shape of X_val: {X_test.shape}\")\n",
    "print(f\"The shape of y_val: {y_test.shape} \")\n",
    "print(\"#\"*70)"
   ]
  },
  {
   "cell_type": "markdown",
   "id": "661db715",
   "metadata": {},
   "source": [
    "## Model training"
   ]
  },
  {
   "cell_type": "code",
   "execution_count": 60,
   "id": "ac64ae44",
   "metadata": {},
   "outputs": [],
   "source": [
    "from sklearn.ensemble import RandomForestRegressor\n",
    "from sklearn.linear_model import LinearRegression\n",
    "from xgboost import XGBRegressor\n",
    "from sklearn.model_selection import cross_val_score\n",
    "\n",
    "from sklearn.metrics import root_mean_squared_error"
   ]
  },
  {
   "cell_type": "code",
   "execution_count": 61,
   "id": "e2de4948",
   "metadata": {},
   "outputs": [
    {
     "data": {
      "text/plain": [
       "{'LR': np.float64(0.26516951458178634),\n",
       " 'RFR': np.float64(0.53869034166341),\n",
       " 'XGB': np.float64(0.5189224001353291)}"
      ]
     },
     "execution_count": 61,
     "metadata": {},
     "output_type": "execute_result"
    }
   ],
   "source": [
    "# Dictionary of the models\n",
    "reg = {\n",
    "  \"LR\": LinearRegression(), \n",
    "  \"RFR\": RandomForestRegressor(),\n",
    "  \"XGB\": XGBRegressor()\n",
    "}\n",
    "\n",
    "results = {}\n",
    "\n",
    "for name, model in reg.items():\n",
    "  score = cross_val_score(model, X_train, y_train, cv=5, n_jobs=-1)\n",
    "  results[name] = score.mean()\n",
    "\n",
    "results"
   ]
  },
  {
   "cell_type": "code",
   "execution_count": 62,
   "id": "c6af4219",
   "metadata": {},
   "outputs": [],
   "source": [
    "# The best performing model is the RandomForestRegressor, the low performance of the model\n",
    "# will be explained later\n",
    "\n",
    "model = RandomForestRegressor()\n",
    "\n",
    "model.fit(X_train, y_train)\n",
    "y_pred = model.predict(X_val)"
   ]
  },
  {
   "cell_type": "code",
   "execution_count": 63,
   "id": "b5a2eae0",
   "metadata": {},
   "outputs": [
    {
     "name": "stdout",
     "output_type": "stream",
     "text": [
      "Performance on the training set: 0.937\n",
      "Performance on the validation set: 0.522\n"
     ]
    },
    {
     "data": {
      "text/plain": [
       "0.7537346658309629"
      ]
     },
     "execution_count": 63,
     "metadata": {},
     "output_type": "execute_result"
    }
   ],
   "source": [
    "print(f\"Performance on the training set: {round(model.score(X_train, y_train), 3)}\")\n",
    "print(f\"Performance on the validation set: {round(model.score(X_val, y_val), 3)}\")\n",
    "root_mean_squared_error(y_val, y_pred)\n",
    "\n",
    "# Model is overfitting on the data"
   ]
  },
  {
   "cell_type": "code",
   "execution_count": 64,
   "id": "704183aa",
   "metadata": {},
   "outputs": [],
   "source": [
    "k_range = range(1, 100, 2)\n",
    "k_scores = []\n",
    "for k in k_range:\n",
    "  \n",
    "  model = RandomForestRegressor(max_depth=k)\n",
    "  model.fit(X_train, y_train)\n",
    "  score = model.score(X_val, y_val)\n",
    "  k_scores.append(score)"
   ]
  },
  {
   "cell_type": "code",
   "execution_count": 65,
   "id": "f273c005",
   "metadata": {},
   "outputs": [
    {
     "data": {
      "image/png": "[encoded data removed]",
      "text/plain": [
       "<Figure size 640x480 with 1 Axes>"
      ]
     },
     "metadata": {},
     "output_type": "display_data"
    }
   ],
   "source": [
    "plt.plot(k_range, k_scores)\n",
    "plt.title(\"The effect of the max_depth on the model performance\")\n",
    "plt.xlabel(\"max_depth\")\n",
    "plt.ylabel(\"Score\")\n",
    "plt.xlim(0, 100)\n",
    "plt.show()\n",
    "\n",
    "# I will the max_depth of 7 for the model to avoid overfitting the model"
   ]
  },
  {
   "cell_type": "code",
   "execution_count": 77,
   "id": "ac9318de",
   "metadata": {},
   "outputs": [
    {
     "name": "stdout",
     "output_type": "stream",
     "text": [
      "Performance on the training set: 0.567\n",
      "Performance on the validation set: 0.523\n",
      "The root mean squared error is: 0.753\n"
     ]
    }
   ],
   "source": [
    "model = RandomForestRegressor(max_depth=7)\n",
    "model.fit(X_train, y_train)\n",
    "\n",
    "y_pred = model.predict(X_val)\n",
    "\n",
    "print(f\"Performance on the training set: {round(model.score(X_train, y_train), 3)}\")\n",
    "print(f\"Performance on the validation set: {round(model.score(X_val, y_val), 3)}\")\n",
    "print(f\"The root mean squared error is: {round(root_mean_squared_error(y_val, y_pred), 3)}\")"
   ]
  },
  {
   "cell_type": "markdown",
   "id": "c9d2e124",
   "metadata": {},
   "source": [
    "## Making prediction on the testing set"
   ]
  },
  {
   "cell_type": "code",
   "execution_count": null,
   "id": "d4e76a3e",
   "metadata": {},
   "outputs": [
    {
     "name": "stdout",
     "output_type": "stream",
     "text": [
      "Performance on the validation set: 0.521\n",
      "The root mean squared error is: 0.77\n"
     ]
    }
   ],
   "source": [
    "# The prediction on the testing data\n",
    "test_pred = model.predict(X_test) \n",
    "\n",
    "print(f\"Performance on the validation set: {round(model.score(X_test, y_test), 3)}\")\n",
    "print(f\"The root mean squared error is: {round(root_mean_squared_error(y_test, test_pred), 3)}\")"
   ]
  },
  {
   "cell_type": "code",
   "execution_count": 96,
   "id": "688ef1a3",
   "metadata": {},
   "outputs": [
    {
     "data": {
      "text/plain": [
       "['car_prediction.pkl']"
      ]
     },
     "execution_count": 96,
     "metadata": {},
     "output_type": "execute_result"
    }
   ],
   "source": [
    "# Saving the model\n",
    "import joblib\n",
    "joblib.dump(model, \"car_prediction.pkl\")"
   ]
  },
  {
   "cell_type": "markdown",
   "id": "46063eb3",
   "metadata": {},
   "source": [
    "## Communication of the results"
   ]
  },
  {
   "cell_type": "code",
   "execution_count": 97,
   "id": "ab50d095",
   "metadata": {},
   "outputs": [
    {
     "data": {
      "image/png": "[encoded data removed]",
      "text/plain": [
       "<Figure size 640x480 with 1 Axes>"
      ]
     },
     "metadata": {},
     "output_type": "display_data"
    }
   ],
   "source": [
    "importance = model.feature_importances_\n",
    "features = model.feature_names_in_\n",
    "\n",
    "feature_importance = pd.Series(data=importance, index=features).sort_values(ascending=True)\n",
    "\n",
    "feature_importance.plot(kind=\"barh\")\n",
    "plt.title(\"The feature importance of the model\")\n",
    "plt.xlabel(\"Feature importance\")\n",
    "plt.tight_layout()\n",
    "plt.show()"
   ]
  }
 ],
 "metadata": {
  "kernelspec": {
   "display_name": "Python 3",
   "language": "python",
   "name": "python3"
  },
  "language_info": {
   "codemirror_mode": {
    "name": "ipython",
    "version": 3
   },
   "file_extension": ".py",
   "mimetype": "text/x-python",
   "name": "python",
   "nbconvert_exporter": "python",
   "pygments_lexer": "ipython3",
   "version": "3.13.2"
  }
 },
 "nbformat": 4,
 "nbformat_minor": 5
}
